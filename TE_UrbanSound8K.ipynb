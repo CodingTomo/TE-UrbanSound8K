{
  "nbformat": 4,
  "nbformat_minor": 0,
  "metadata": {
    "colab": {
      "name": "TE-UrbanSound8K.ipynb",
      "provenance": [],
      "authorship_tag": "ABX9TyP8XaSmAhOk4UIiByU/nxwe",
      "include_colab_link": true
    },
    "kernelspec": {
      "name": "python3",
      "display_name": "Python 3"
    }
  },
  "cells": [
    {
      "cell_type": "markdown",
      "metadata": {
        "id": "view-in-github",
        "colab_type": "text"
      },
      "source": [
        "<a href=\"https://colab.research.google.com/github/CodingTomo/TE-UrbanSound8K/blob/master/TE_UrbanSound8K.ipynb\" target=\"_parent\"><img src=\"https://colab.research.google.com/assets/colab-badge.svg\" alt=\"Open In Colab\"/></a>"
      ]
    },
    {
      "cell_type": "markdown",
      "metadata": {
        "id": "kKvrWHKOoqDL",
        "colab_type": "text"
      },
      "source": [
        "### Progetto TE\n",
        "\n",
        "Autori:\n",
        "1. Lo Cascio\n",
        "2. Pizzuto\n",
        "3. Trinci"
      ]
    },
    {
      "cell_type": "code",
      "metadata": {
        "id": "PU8-VtxoouQz",
        "colab_type": "code",
        "colab": {}
      },
      "source": [
        ""
      ],
      "execution_count": 0,
      "outputs": []
    }
  ]
}