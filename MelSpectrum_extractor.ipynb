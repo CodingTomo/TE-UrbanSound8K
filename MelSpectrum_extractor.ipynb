{
  "nbformat": 4,
  "nbformat_minor": 0,
  "metadata": {
    "colab": {
      "name": "MelSpectrum extractor.ipynb",
      "provenance": [],
      "mount_file_id": "1MZM5k0czYcwckfgkB75ERFQ4qaiCg7Hs",
      "authorship_tag": "ABX9TyNZE8XSRnQmLRAsZzvBOb03",
      "include_colab_link": true
    },
    "kernelspec": {
      "name": "python3",
      "display_name": "Python 3"
    },
    "accelerator": "GPU"
  },
  "cells": [
    {
      "cell_type": "markdown",
      "metadata": {
        "id": "view-in-github",
        "colab_type": "text"
      },
      "source": [
        "<a href=\"https://colab.research.google.com/github/CodingTomo/TE-UrbanSound8K/blob/master/MelSpectrum_extractor.ipynb\" target=\"_parent\"><img src=\"https://colab.research.google.com/assets/colab-badge.svg\" alt=\"Open In Colab\"/></a>"
      ]
    },
    {
      "cell_type": "code",
      "metadata": {
        "id": "JOTQDTBwi9dC",
        "colab_type": "code",
        "colab": {
          "base_uri": "https://localhost:8080/",
          "height": 171
        },
        "outputId": "345e8730-a7f4-4fbd-b0a7-460cb31d657b"
      },
      "source": [
        "! pip install torchaudio"
      ],
      "execution_count": 1,
      "outputs": [
        {
          "output_type": "stream",
          "text": [
            "Collecting torchaudio\n",
            "\u001b[?25l  Downloading https://files.pythonhosted.org/packages/96/34/c651430dea231e382ddf2eb5773239bf4885d9528f640a4ef39b12894cb8/torchaudio-0.6.0-cp36-cp36m-manylinux1_x86_64.whl (6.7MB)\n",
            "\u001b[K     |████████████████████████████████| 6.7MB 5.4MB/s \n",
            "\u001b[?25hRequirement already satisfied: torch==1.6.0 in /usr/local/lib/python3.6/dist-packages (from torchaudio) (1.6.0+cu101)\n",
            "Requirement already satisfied: numpy in /usr/local/lib/python3.6/dist-packages (from torch==1.6.0->torchaudio) (1.18.5)\n",
            "Requirement already satisfied: future in /usr/local/lib/python3.6/dist-packages (from torch==1.6.0->torchaudio) (0.16.0)\n",
            "Installing collected packages: torchaudio\n",
            "Successfully installed torchaudio-0.6.0\n"
          ],
          "name": "stdout"
        }
      ]
    },
    {
      "cell_type": "code",
      "metadata": {
        "id": "TPAojjGJi9n8",
        "colab_type": "code",
        "colab": {}
      },
      "source": [
        "import os\n",
        "import pandas as pd\n",
        "import torchaudio\n",
        "import torch\n",
        "import librosa"
      ],
      "execution_count": 2,
      "outputs": []
    },
    {
      "cell_type": "code",
      "metadata": {
        "id": "fHJB0MoZjZ1G",
        "colab_type": "code",
        "colab": {}
      },
      "source": [
        "metadata = pd.read_csv('/content/drive/Shared drives/TE-UrbanSound/UrbanSound8K/metadata/UrbanSound8K.csv')\n",
        "SAMPLE_RATE = 8000\n",
        "MELKWARGS = {'n_fft': 512, 'hop_length': 128}\n",
        "N_MELS = 90\n",
        "N_WAVEFORM = metadata.shape[0]"
      ],
      "execution_count": 3,
      "outputs": []
    },
    {
      "cell_type": "code",
      "metadata": {
        "id": "egB5EmZU-v8L",
        "colab_type": "code",
        "colab": {}
      },
      "source": [
        "LIBROSA = 'OFF'\n",
        "TORCHAUDIO = 'ON'"
      ],
      "execution_count": 4,
      "outputs": []
    },
    {
      "cell_type": "code",
      "metadata": {
        "id": "tmX0XylK-6nm",
        "colab_type": "code",
        "colab": {}
      },
      "source": [
        "if LIBROSA == 'ON':\n",
        "  data = {'name': [],\n",
        "          'log_mel_spectrogram': [],\n",
        "          'label': []\n",
        "          }\n",
        "  i=0\n",
        "\n",
        "  for root, dirs, files in os.walk('/content/drive/Shared drives/TE-UrbanSound/UrbanSound8K'):\n",
        "      for name in files:\n",
        "          if name.endswith(\".wav\"):\n",
        "              complete_path = root + \"/\" + name\n",
        "              waveform, sr = librosa.load(complete_path, sr=SAMPLE_RATE, mono=True)\n",
        "              mel_spectrogram = librosa.feature.melspectrogram(waveform, \n",
        "                                                                sr=sr, \n",
        "                                                                n_fft=MELKWARGS['n_fft'], \n",
        "                                                                hop_length=MELKWARGS['hop_length'],\n",
        "                                                                n_mels=N_MELS)\n",
        "              log_mel_spectrogram = librosa.power_to_db(mel_spectrogram)\n",
        "              data['name'].append(name)\n",
        "              data['log_mel_spectrogram'].append(log_mel_spectrogram)\n",
        "              data['label'].append(metadata.loc[metadata['slice_file_name'] == name]['classID'].iloc[0])\n",
        "              i=i+1\n",
        "              if i%100==0:\n",
        "                print('-'*40)\n",
        "                print('Processed {:.0%}'.format(i/N_WAVEFORM))"
      ],
      "execution_count": 5,
      "outputs": []
    },
    {
      "cell_type": "code",
      "metadata": {
        "id": "RdZEqDlHi9Q0",
        "colab_type": "code",
        "colab": {}
      },
      "source": [
        "def stereo_to_mono(waveform):\n",
        "    waveform_mono = torch.mean(waveform, dim=0, keepdim=True)\n",
        "    return waveform_mono"
      ],
      "execution_count": 6,
      "outputs": []
    },
    {
      "cell_type": "code",
      "metadata": {
        "id": "CaiUhLsfjTPI",
        "colab_type": "code",
        "colab": {}
      },
      "source": [
        "def resampling_8k(waveform, sr, SAMPLE_RATE):\n",
        "    waveform = torchaudio.transforms.Resample(new_freq=SAMPLE_RATE, orig_freq=sr)(waveform)\n",
        "    return waveform\n"
      ],
      "execution_count": 7,
      "outputs": []
    },
    {
      "cell_type": "code",
      "metadata": {
        "id": "QQ6DfX73jhw5",
        "colab_type": "code",
        "colab": {
          "base_uri": "https://localhost:8080/",
          "height": 363
        },
        "outputId": "8da8466c-641c-4ee4-cb6f-e058d47a491f"
      },
      "source": [
        "if TORCHAUDIO == 'ON':\n",
        "  device = torch.device(\"cuda:0\" if torch.cuda.is_available() else \"cpu\")\n",
        "  with torch.cuda.device(0):\n",
        "    data = {'name': [],\n",
        "            'log_mel_spectrogram': [],\n",
        "            'label': []\n",
        "            }\n",
        "    i=0\n",
        "\n",
        "    for root, dirs, files in os.walk('/content/drive/Shared drives/TE-UrbanSound/UrbanSound8K'):\n",
        "        for name in files:\n",
        "            if name.endswith(\".wav\"):\n",
        "                complete_path = root + \"/\" + name\n",
        "                waveform, sr = torchaudio.load(complete_path)\n",
        "                waveform.to(device)\n",
        "                if waveform.shape[0] != 1:\n",
        "                    waveform = stereo_to_mono(waveform)\n",
        "                if sr != SAMPLE_RATE:\n",
        "                    waveform = resampling_8k(waveform, sr, SAMPLE_RATE)\n",
        "                mel_spectrogram = torchaudio.transforms.MelSpectrogram(\n",
        "                                                                    sample_rate=SAMPLE_RATE,\n",
        "                                                                    n_fft=MELKWARGS['n_fft'], \n",
        "                                                                    hop_length=MELKWARGS['hop_length'],\n",
        "                                                                    n_mels=N_MELS)(waveform)\n",
        "                log_mel_spectrogram = torchaudio.transforms.AmplitudeToDB(mel_spectrogram)\n",
        "                data['name'].append(name)\n",
        "                data['log_mel_spectrogram'].append(log_mel_spectrogram)\n",
        "                data['label'].append(metadata.loc[metadata['slice_file_name'] == name]['classID'].iloc[0])\n",
        "                i=i+1\n",
        "                if i%100==0:\n",
        "                  print('-'*40)\n",
        "                  print('Processed {:.0%}'.format(i/N_WAVEFORM))"
      ],
      "execution_count": 11,
      "outputs": [
        {
          "output_type": "error",
          "ename": "KeyboardInterrupt",
          "evalue": "ignored",
          "traceback": [
            "\u001b[0;31m---------------------------------------------------------------------------\u001b[0m",
            "\u001b[0;31mKeyboardInterrupt\u001b[0m                         Traceback (most recent call last)",
            "\u001b[0;32m<ipython-input-11-bee17fd0c58e>\u001b[0m in \u001b[0;36m<module>\u001b[0;34m()\u001b[0m\n\u001b[1;32m     12\u001b[0m             \u001b[0;32mif\u001b[0m \u001b[0mname\u001b[0m\u001b[0;34m.\u001b[0m\u001b[0mendswith\u001b[0m\u001b[0;34m(\u001b[0m\u001b[0;34m\".wav\"\u001b[0m\u001b[0;34m)\u001b[0m\u001b[0;34m:\u001b[0m\u001b[0;34m\u001b[0m\u001b[0;34m\u001b[0m\u001b[0m\n\u001b[1;32m     13\u001b[0m                 \u001b[0mcomplete_path\u001b[0m \u001b[0;34m=\u001b[0m \u001b[0mroot\u001b[0m \u001b[0;34m+\u001b[0m \u001b[0;34m\"/\"\u001b[0m \u001b[0;34m+\u001b[0m \u001b[0mname\u001b[0m\u001b[0;34m\u001b[0m\u001b[0;34m\u001b[0m\u001b[0m\n\u001b[0;32m---> 14\u001b[0;31m                 \u001b[0mwaveform\u001b[0m\u001b[0;34m,\u001b[0m \u001b[0msr\u001b[0m \u001b[0;34m=\u001b[0m \u001b[0mtorchaudio\u001b[0m\u001b[0;34m.\u001b[0m\u001b[0mload\u001b[0m\u001b[0;34m(\u001b[0m\u001b[0mcomplete_path\u001b[0m\u001b[0;34m)\u001b[0m\u001b[0;34m\u001b[0m\u001b[0;34m\u001b[0m\u001b[0m\n\u001b[0m\u001b[1;32m     15\u001b[0m                 \u001b[0mwaveform\u001b[0m\u001b[0;34m.\u001b[0m\u001b[0mto\u001b[0m\u001b[0;34m(\u001b[0m\u001b[0mdevice\u001b[0m\u001b[0;34m)\u001b[0m\u001b[0;34m\u001b[0m\u001b[0;34m\u001b[0m\u001b[0m\n\u001b[1;32m     16\u001b[0m                 \u001b[0;32mif\u001b[0m \u001b[0mwaveform\u001b[0m\u001b[0;34m.\u001b[0m\u001b[0mshape\u001b[0m\u001b[0;34m[\u001b[0m\u001b[0;36m0\u001b[0m\u001b[0;34m]\u001b[0m \u001b[0;34m!=\u001b[0m \u001b[0;36m1\u001b[0m\u001b[0;34m:\u001b[0m\u001b[0;34m\u001b[0m\u001b[0;34m\u001b[0m\u001b[0m\n",
            "\u001b[0;32m/usr/local/lib/python3.6/dist-packages/torchaudio/backend/sox_backend.py\u001b[0m in \u001b[0;36mload\u001b[0;34m(filepath, out, normalization, channels_first, num_frames, offset, signalinfo, encodinginfo, filetype)\u001b[0m\n\u001b[1;32m     54\u001b[0m         \u001b[0msignalinfo\u001b[0m\u001b[0;34m,\u001b[0m\u001b[0;34m\u001b[0m\u001b[0;34m\u001b[0m\u001b[0m\n\u001b[1;32m     55\u001b[0m         \u001b[0mencodinginfo\u001b[0m\u001b[0;34m,\u001b[0m\u001b[0;34m\u001b[0m\u001b[0;34m\u001b[0m\u001b[0m\n\u001b[0;32m---> 56\u001b[0;31m         \u001b[0mfiletype\u001b[0m\u001b[0;34m\u001b[0m\u001b[0;34m\u001b[0m\u001b[0m\n\u001b[0m\u001b[1;32m     57\u001b[0m     )\n\u001b[1;32m     58\u001b[0m \u001b[0;34m\u001b[0m\u001b[0m\n",
            "\u001b[0;31mKeyboardInterrupt\u001b[0m: "
          ]
        }
      ]
    }
  ]
}