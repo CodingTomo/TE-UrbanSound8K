{
  "nbformat": 4,
  "nbformat_minor": 0,
  "metadata": {
    "colab": {
      "name": "MFCC extractor.ipynb",
      "provenance": [],
      "mount_file_id": "https://github.com/CodingTomo/TE-UrbanSound8K/blob/master/MFCC_extractor.ipynb",
      "authorship_tag": "ABX9TyMJJ+9twbqwGWGePiVFdu9t",
      "include_colab_link": true
    },
    "kernelspec": {
      "name": "python3",
      "display_name": "Python 3"
    },
    "accelerator": "GPU"
  },
  "cells": [
    {
      "cell_type": "markdown",
      "metadata": {
        "id": "view-in-github",
        "colab_type": "text"
      },
      "source": [
        "<a href=\"https://colab.research.google.com/github/CodingTomo/TE-UrbanSound8K/blob/master/MFCC_extractor.ipynb\" target=\"_parent\"><img src=\"https://colab.research.google.com/assets/colab-badge.svg\" alt=\"Open In Colab\"/></a>"
      ]
    },
    {
      "cell_type": "code",
      "metadata": {
        "id": "JOTQDTBwi9dC"
      },
      "source": [
        "! pip install torchaudio"
      ],
      "execution_count": null,
      "outputs": []
    },
    {
      "cell_type": "code",
      "metadata": {
        "id": "TPAojjGJi9n8"
      },
      "source": [
        "import os\n",
        "import pandas as pd\n",
        "import torchaudio\n",
        "import torch\n",
        "import json\n",
        "import numpy as np\n",
        "import librosa"
      ],
      "execution_count": null,
      "outputs": []
    },
    {
      "cell_type": "code",
      "metadata": {
        "id": "fHJB0MoZjZ1G"
      },
      "source": [
        "metadata = pd.read_csv('/content/drive/Shared drives/TE-UrbanSound/UrbanSound8K/metadata/UrbanSound8K.csv')\n",
        "SAMPLE_RATE = 8000\n",
        "MELKWARGS = {'n_fft': 512, 'hop_length': 128}\n",
        "N_MFCC = 13\n",
        "N_WAVEFORM = metadata.shape[0]"
      ],
      "execution_count": null,
      "outputs": []
    },
    {
      "cell_type": "code",
      "metadata": {
        "id": "IjIxU-AVwQJY"
      },
      "source": [
        "class NpEncoder(json.JSONEncoder):\n",
        "    def default(self, obj):\n",
        "        if isinstance(obj, np.integer):\n",
        "            return int(obj)\n",
        "        elif isinstance(obj, np.floating):\n",
        "            return float(obj)\n",
        "        elif isinstance(obj, np.ndarray):\n",
        "            return obj.tolist()\n",
        "        else:\n",
        "            return super(NpEncoder, self).default(obj)"
      ],
      "execution_count": null,
      "outputs": []
    },
    {
      "cell_type": "code",
      "metadata": {
        "id": "RdZEqDlHi9Q0"
      },
      "source": [
        "def stereo_to_mono(waveform):\n",
        "    waveform_mono = torch.mean(waveform, dim=0, keepdim=True)\n",
        "    return waveform_mono"
      ],
      "execution_count": null,
      "outputs": []
    },
    {
      "cell_type": "code",
      "metadata": {
        "id": "CaiUhLsfjTPI"
      },
      "source": [
        "def resampling_8k(waveform, sr, SAMPLE_RATE):\n",
        "    waveform = torchaudio.transforms.Resample(new_freq=SAMPLE_RATE, orig_freq=sr)(waveform)\n",
        "    return waveform\n"
      ],
      "execution_count": null,
      "outputs": []
    },
    {
      "cell_type": "code",
      "metadata": {
        "id": "QQ6DfX73jhw5"
      },
      "source": [
        "device = torch.device(\"cuda:0\" if torch.cuda.is_available() else \"cpu\")\n",
        "with torch.cuda.device(0):\n",
        "  data = {'name': [],\n",
        "          'mfcc': [],\n",
        "          'label': []\n",
        "          }\n",
        "  i=0\n",
        "\n",
        "  for root, dirs, files in os.walk('/content/drive/Shared drives/TE-UrbanSound/UrbanSound8K'):\n",
        "      for name in files:\n",
        "          if name.endswith(\".wav\"):\n",
        "              complete_path = root + \"/\" + name\n",
        "              waveform, sr = torchaudio.load(complete_path)\n",
        "              waveform.to(device)\n",
        "              if waveform.shape[0] != 1:\n",
        "                  waveform = stereo_to_mono(waveform)\n",
        "              if sr != SAMPLE_RATE:\n",
        "                  waveform = resampling_8k(waveform, sr, SAMPLE_RATE)\n",
        "              if waveform.shape[1]==SAMPLE_RATE*4:\n",
        "                feature = torchaudio.transforms.MFCC(sample_rate=SAMPLE_RATE,\n",
        "                                                    n_mfcc=N_MFCC,\n",
        "                                                    melkwargs=MELKWARGS)(waveform)\n",
        "                feature=feature.squeeze().numpy()\n",
        "                data['name'].append(name)\n",
        "                data['mfcc'].append(feature)\n",
        "                data['label'].append(metadata.loc[metadata['slice_file_name'] == name]['classID'].iloc[0])\n",
        "                i=i+1\n",
        "                if i%100==0:\n",
        "                  print('-'*40)\n",
        "                  print('Processed {:.0%}'.format(i/N_WAVEFORM))"
      ],
      "execution_count": null,
      "outputs": []
    },
    {
      "cell_type": "code",
      "metadata": {
        "id": "3nDhOgXFwPW9"
      },
      "source": [
        "with open('/content/drive/Shared drives/TE-UrbanSound/UrbanSound8K/MFCC.json', 'w') as fp:\n",
        "    json.dump(data, fp, cls=NpEncoder, indent=4)"
      ],
      "execution_count": null,
      "outputs": []
    },
    {
      "cell_type": "code",
      "metadata": {
        "id": "c4eL9Z8a3_c8"
      },
      "source": [
        "data = {'name': [],\n",
        "        'MFCC': [],\n",
        "        'label': []\n",
        "        }\n",
        "i=0\n",
        "\n",
        "for root, dirs, files in os.walk('/content/drive/Shared drives/TE-UrbanSound/UrbanSound8K'):\n",
        "    for name in files:\n",
        "        if name.endswith(\".wav\"):\n",
        "            complete_path = root + \"/\" + name\n",
        "            waveform, sr = librosa.load(complete_path, sr=SAMPLE_RATE, mono=True)\n",
        "            if waveform.shape[0]==SAMPLE_RATE*4:\n",
        "              feature = librosa.feature.mfcc(waveform, \n",
        "                                                      sr=sr, \n",
        "                                                      n_fft=MELKWARGS['n_fft'], \n",
        "                                                      hop_length=MELKWARGS['hop_length'],\n",
        "                                                      n_mfcc=N_MFCC)\n",
        "              delta_feature = librosa.feature.delta(feature)\n",
        "              delta_delta_feature = librosa.feature.delta(feature, order=2)\n",
        "              all_feature = np.concatenate((feature, delta_feature, delta_delta_feature))\n",
        "              data['name'].append(name)\n",
        "              data['MFCC'].append(all_feature)\n",
        "              data['label'].append(metadata.loc[metadata['slice_file_name'] == name]['classID'].iloc[0])\n",
        "              i=i+1\n",
        "              if i%100==0:\n",
        "                print('-'*40)\n",
        "                print('Processed {:.0%}'.format(i/N_WAVEFORM))"
      ],
      "execution_count": null,
      "outputs": []
    },
    {
      "cell_type": "code",
      "metadata": {
        "id": "Tub5byaYE63C"
      },
      "source": [
        ""
      ],
      "execution_count": null,
      "outputs": []
    }
  ]
}