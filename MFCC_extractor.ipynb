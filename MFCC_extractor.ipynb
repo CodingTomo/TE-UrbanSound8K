{
  "nbformat": 4,
  "nbformat_minor": 0,
  "metadata": {
    "colab": {
      "name": "MFCC extractor.ipynb",
      "provenance": [],
      "mount_file_id": "https://github.com/CodingTomo/TE-UrbanSound8K/blob/master/MFCC_extractor.ipynb",
      "authorship_tag": "ABX9TyNpAEt9Yu8pDxQTEWoJvB0U",
      "include_colab_link": true
    },
    "kernelspec": {
      "name": "python3",
      "display_name": "Python 3"
    },
    "accelerator": "GPU"
  },
  "cells": [
    {
      "cell_type": "markdown",
      "metadata": {
        "id": "view-in-github",
        "colab_type": "text"
      },
      "source": [
        "<a href=\"https://colab.research.google.com/github/CodingTomo/TE-UrbanSound8K/blob/master/MFCC_extractor.ipynb\" target=\"_parent\"><img src=\"https://colab.research.google.com/assets/colab-badge.svg\" alt=\"Open In Colab\"/></a>"
      ]
    },
    {
      "cell_type": "code",
      "metadata": {
        "id": "JOTQDTBwi9dC",
        "colab_type": "code",
        "colab": {}
      },
      "source": [
        "! pip install torchaudio"
      ],
      "execution_count": null,
      "outputs": []
    },
    {
      "cell_type": "code",
      "metadata": {
        "id": "TPAojjGJi9n8",
        "colab_type": "code",
        "colab": {}
      },
      "source": [
        "import os\n",
        "import pandas as pd\n",
        "import torchaudio\n",
        "import torch"
      ],
      "execution_count": null,
      "outputs": []
    },
    {
      "cell_type": "code",
      "metadata": {
        "id": "fHJB0MoZjZ1G",
        "colab_type": "code",
        "colab": {}
      },
      "source": [
        "metadata = pd.read_csv('/content/drive/Shared drives/TE-UrbanSound/UrbanSound8K/metadata/UrbanSound8K.csv')\n",
        "SAMPLE_RATE = 8000\n",
        "MELKWARGS = {'n_fft': 512, 'hop_length': 128}\n",
        "N_MFCC = 40\n",
        "N_WAVEFORM = metadata.shape[0]"
      ],
      "execution_count": null,
      "outputs": []
    },
    {
      "cell_type": "code",
      "metadata": {
        "id": "RdZEqDlHi9Q0",
        "colab_type": "code",
        "colab": {}
      },
      "source": [
        "def stereo_to_mono(waveform):\n",
        "    waveform_mono = torch.mean(waveform, dim=0, keepdim=True)\n",
        "    return waveform_mono"
      ],
      "execution_count": null,
      "outputs": []
    },
    {
      "cell_type": "code",
      "metadata": {
        "id": "CaiUhLsfjTPI",
        "colab_type": "code",
        "colab": {}
      },
      "source": [
        "def resampling_8k(waveform, sr, SAMPLE_RATE):\n",
        "    waveform = torchaudio.transforms.Resample(new_freq=SAMPLE_RATE, orig_freq=sr)(waveform)\n",
        "    return waveform\n"
      ],
      "execution_count": null,
      "outputs": []
    },
    {
      "cell_type": "code",
      "metadata": {
        "id": "QQ6DfX73jhw5",
        "colab_type": "code",
        "colab": {}
      },
      "source": [
        "device = torch.device(\"cuda:0\" if torch.cuda.is_available() else \"cpu\")\n",
        "with torch.cuda.device(0):\n",
        "  data = {'name': [],\n",
        "          'mfcc': [],\n",
        "          'label': []\n",
        "          }\n",
        "  i=0\n",
        "\n",
        "  for root, dirs, files in os.walk('/content/drive/Shared drives/TE-UrbanSound/UrbanSound8K'):\n",
        "      for name in files:\n",
        "          if name.endswith(\".wav\"):\n",
        "              complete_path = root + \"/\" + name\n",
        "              waveform, sr = torchaudio.load(complete_path)\n",
        "              waveform.to(device)\n",
        "              if waveform.shape[0] != 1:\n",
        "                  waveform = stereo_to_mono(waveform)\n",
        "              if sr != SAMPLE_RATE:\n",
        "                  waveform = resampling_8k(waveform, sr, SAMPLE_RATE)\n",
        "              feature = torchaudio.transforms.MFCC(sample_rate=SAMPLE_RATE,\n",
        "                                                  n_mfcc=N_MFCC,\n",
        "                                                  melkwargs=MELKWARGS)(waveform)\n",
        "              data['name'].append(name)\n",
        "              data['mfcc'].append(feature)\n",
        "              data['label'].append(metadata.loc[metadata['slice_file_name'] == name]['classID'].iloc[0])\n",
        "              i=i+1\n",
        "              if i%100==0:\n",
        "                print('-'*40)\n",
        "                print('Processed {:.0%}'.format(i/N_WAVEFORM))"
      ],
      "execution_count": null,
      "outputs": []
    }
  ]
}